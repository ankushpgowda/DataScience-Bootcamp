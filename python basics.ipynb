{
 "cells": [
  {
   "cell_type": "markdown",
   "id": "66d1c842-506c-41b1-b567-912aebdd36f8",
   "metadata": {},
   "source": [
    "# Learning Python"
   ]
  },
  {
   "cell_type": "markdown",
   "id": "6f1ec6b9-3185-41f8-90b0-267dd53b8ee7",
   "metadata": {},
   "source": [
    "### Numbers and Operators"
   ]
  },
  {
   "cell_type": "code",
   "execution_count": 1,
   "id": "2aa017e9-1649-4005-8b6f-abad82e11223",
   "metadata": {},
   "outputs": [
    {
     "data": {
      "text/plain": [
       "5"
      ]
     },
     "execution_count": 1,
     "metadata": {},
     "output_type": "execute_result"
    }
   ],
   "source": [
    "2 + 3 #Addition"
   ]
  },
  {
   "cell_type": "code",
   "execution_count": 2,
   "id": "b27b30b5-cea4-42b3-93f7-e19fd1ad2b70",
   "metadata": {},
   "outputs": [
    {
     "data": {
      "text/plain": [
       "2"
      ]
     },
     "execution_count": 2,
     "metadata": {},
     "output_type": "execute_result"
    }
   ],
   "source": [
    "3 - 1 #Subtraction"
   ]
  },
  {
   "cell_type": "code",
   "execution_count": 3,
   "id": "8622e15b-9366-48e6-8403-f1fafb31dbb7",
   "metadata": {},
   "outputs": [
    {
     "data": {
      "text/plain": [
       "6"
      ]
     },
     "execution_count": 3,
     "metadata": {},
     "output_type": "execute_result"
    }
   ],
   "source": [
    "2 * 3 #Multiplication"
   ]
  },
  {
   "cell_type": "code",
   "execution_count": 4,
   "id": "f0c417e1-4428-4f47-88f5-b12bff051a3e",
   "metadata": {},
   "outputs": [
    {
     "data": {
      "text/plain": [
       "2.0"
      ]
     },
     "execution_count": 4,
     "metadata": {},
     "output_type": "execute_result"
    }
   ],
   "source": [
    "4 / 2 #Division"
   ]
  },
  {
   "cell_type": "code",
   "execution_count": 5,
   "id": "24867cd6-d3ec-4715-9a3d-21df090c1ad5",
   "metadata": {},
   "outputs": [
    {
     "data": {
      "text/plain": [
       "1"
      ]
     },
     "execution_count": 5,
     "metadata": {},
     "output_type": "execute_result"
    }
   ],
   "source": [
    "5 % 2 #Modulus"
   ]
  },
  {
   "cell_type": "code",
   "execution_count": 6,
   "id": "f82d42eb-07aa-4c58-8088-205158c131bd",
   "metadata": {},
   "outputs": [
    {
     "data": {
      "text/plain": [
       "8"
      ]
     },
     "execution_count": 6,
     "metadata": {},
     "output_type": "execute_result"
    }
   ],
   "source": [
    "2 ** 3 #Power"
   ]
  },
  {
   "cell_type": "code",
   "execution_count": 7,
   "id": "a5e34229-099b-415b-9440-cc0b47b85045",
   "metadata": {},
   "outputs": [
    {
     "data": {
      "text/plain": [
       "20"
      ]
     },
     "execution_count": 7,
     "metadata": {},
     "output_type": "execute_result"
    }
   ],
   "source": [
    "(2 + 3) * (5 - 1) #use ( ) for specific operation otherwise it uses BODMAS rule"
   ]
  },
  {
   "cell_type": "markdown",
   "id": "338f6223-fce9-478b-a002-190619b36a93",
   "metadata": {},
   "source": [
    "### Variable Assignment"
   ]
  },
  {
   "cell_type": "code",
   "execution_count": 8,
   "id": "8bd9607e-d8da-4a8f-b401-4cdca16f65e9",
   "metadata": {},
   "outputs": [],
   "source": [
    "a = 5"
   ]
  },
  {
   "cell_type": "code",
   "execution_count": 9,
   "id": "3cc22c57-34ff-492d-8473-ff106fc6ab31",
   "metadata": {},
   "outputs": [
    {
     "data": {
      "text/plain": [
       "5"
      ]
     },
     "execution_count": 9,
     "metadata": {},
     "output_type": "execute_result"
    }
   ],
   "source": [
    "a"
   ]
  },
  {
   "cell_type": "code",
   "execution_count": 10,
   "id": "ef125dc8-058d-4439-8c73-4d5af3eb2969",
   "metadata": {},
   "outputs": [],
   "source": [
    "b = 10.5"
   ]
  },
  {
   "cell_type": "code",
   "execution_count": 11,
   "id": "fc525ebf-18d1-4d69-bdbc-cb42120ef003",
   "metadata": {},
   "outputs": [
    {
     "data": {
      "text/plain": [
       "10.5"
      ]
     },
     "execution_count": 11,
     "metadata": {},
     "output_type": "execute_result"
    }
   ],
   "source": [
    "b"
   ]
  },
  {
   "cell_type": "markdown",
   "id": "d22da656-bded-49bc-8b2f-0b0e6c848ee2",
   "metadata": {},
   "source": [
    "Python uses dynamic typing whereas other languages uses static typing like declaring int, char before assigning the variables"
   ]
  },
  {
   "cell_type": "markdown",
   "id": "ae2e60e6-baa2-4af5-8825-f99ad0e96f57",
   "metadata": {},
   "source": [
    "Rules for python variable assignment https://www.w3schools.com/python/gloss_python_variable_names.asp"
   ]
  },
  {
   "cell_type": "code",
   "execution_count": 12,
   "id": "3f3281c3-c684-4ca8-babf-e9add89834a9",
   "metadata": {},
   "outputs": [
    {
     "data": {
      "text/plain": [
       "int"
      ]
     },
     "execution_count": 12,
     "metadata": {},
     "output_type": "execute_result"
    }
   ],
   "source": [
    "type(a) #use type to know the data type of the variable"
   ]
  },
  {
   "cell_type": "code",
   "execution_count": 13,
   "id": "e394a639-2045-4f5a-ab43-44f7fed8bda8",
   "metadata": {},
   "outputs": [
    {
     "data": {
      "text/plain": [
       "float"
      ]
     },
     "execution_count": 13,
     "metadata": {},
     "output_type": "execute_result"
    }
   ],
   "source": [
    "type(b)"
   ]
  },
  {
   "cell_type": "markdown",
   "id": "4dc20ec7-2851-44aa-b410-f8cd94ca8e5a",
   "metadata": {},
   "source": [
    "### Strings"
   ]
  },
  {
   "cell_type": "code",
   "execution_count": 14,
   "id": "67d9e5de-f8ed-45b7-aadc-cdee29a8302e",
   "metadata": {},
   "outputs": [
    {
     "data": {
      "text/plain": [
       "'hello'"
      ]
     },
     "execution_count": 14,
     "metadata": {},
     "output_type": "execute_result"
    }
   ],
   "source": [
    "'hello' #can be specified inside single quotes"
   ]
  },
  {
   "cell_type": "code",
   "execution_count": 15,
   "id": "9e92cf61-4526-46c9-af7d-f996a471fe5a",
   "metadata": {},
   "outputs": [
    {
     "data": {
      "text/plain": [
       "\"can't\""
      ]
     },
     "execution_count": 15,
     "metadata": {},
     "output_type": "execute_result"
    }
   ],
   "source": [
    "\"can't\" #use double quotes if there is single quote to be printed"
   ]
  },
  {
   "cell_type": "code",
   "execution_count": 16,
   "id": "70c37571-6578-4a1c-8ae6-cf1cf0671bc3",
   "metadata": {},
   "outputs": [
    {
     "data": {
      "text/plain": [
       "'hello\\n      world'"
      ]
     },
     "execution_count": 16,
     "metadata": {},
     "output_type": "execute_result"
    }
   ],
   "source": [
    "'''hello\n",
    "      world''' #triple quotes are used to span multiple lines, and they also serve as docstrings"
   ]
  },
  {
   "cell_type": "code",
   "execution_count": 17,
   "id": "7039f52e-7c22-4cb0-ae5c-aa81c1da119a",
   "metadata": {},
   "outputs": [
    {
     "data": {
      "text/plain": [
       "'J'"
      ]
     },
     "execution_count": 17,
     "metadata": {},
     "output_type": "execute_result"
    }
   ],
   "source": [
    "a = \"John Jonas\" \n",
    "a[0] #can use [n] to retrieve each element inside the string, where 'n' specifies which element to be retrieved"
   ]
  },
  {
   "cell_type": "code",
   "execution_count": 18,
   "id": "3d0d1eca-7afc-4ba3-816a-bf3357f5e0e2",
   "metadata": {},
   "outputs": [
    {
     "data": {
      "text/plain": [
       "'s'"
      ]
     },
     "execution_count": 18,
     "metadata": {},
     "output_type": "execute_result"
    }
   ],
   "source": [
    "a[-1] #can also use reverse indexing to get last elements"
   ]
  },
  {
   "cell_type": "code",
   "execution_count": 19,
   "id": "308d647f-1f7f-4884-9c6b-ba8c8586a532",
   "metadata": {},
   "outputs": [
    {
     "data": {
      "text/plain": [
       "10"
      ]
     },
     "execution_count": 19,
     "metadata": {},
     "output_type": "execute_result"
    }
   ],
   "source": [
    "len(a) #use len to get the length of the string"
   ]
  },
  {
   "cell_type": "code",
   "execution_count": 20,
   "id": "0bbbb163-2dcd-40c0-9c34-3f5e06389817",
   "metadata": {},
   "outputs": [
    {
     "data": {
      "text/plain": [
       "'John Jonas'"
      ]
     },
     "execution_count": 20,
     "metadata": {},
     "output_type": "execute_result"
    }
   ],
   "source": [
    "a[ : : ] #slicing syntax [start:stop:jump] which helps to extract the part of the string"
   ]
  },
  {
   "cell_type": "code",
   "execution_count": 21,
   "id": "faa69685-3f9d-407b-bb98-6b1adbcdec90",
   "metadata": {},
   "outputs": [
    {
     "data": {
      "text/plain": [
       "'John'"
      ]
     },
     "execution_count": 21,
     "metadata": {},
     "output_type": "execute_result"
    }
   ],
   "source": [
    "a[:4]"
   ]
  },
  {
   "cell_type": "code",
   "execution_count": 22,
   "id": "33b755c3-46e0-48b7-bc6d-26e326ac63c9",
   "metadata": {},
   "outputs": [
    {
     "data": {
      "text/plain": [
       "'Jonas'"
      ]
     },
     "execution_count": 22,
     "metadata": {},
     "output_type": "execute_result"
    }
   ],
   "source": [
    "a[5:]"
   ]
  },
  {
   "cell_type": "code",
   "execution_count": 23,
   "id": "2b0f11ce-46f6-45b9-b261-1f697960a8ff",
   "metadata": {},
   "outputs": [
    {
     "data": {
      "text/plain": [
       "'Jh oa'"
      ]
     },
     "execution_count": 23,
     "metadata": {},
     "output_type": "execute_result"
    }
   ],
   "source": [
    "a[ : :2]"
   ]
  },
  {
   "cell_type": "markdown",
   "id": "a7fad8b9-66a9-4ec7-aa4f-6665d66cae71",
   "metadata": {},
   "source": [
    "### String properties"
   ]
  },
  {
   "cell_type": "code",
   "execution_count": 24,
   "id": "34cb118e-15e9-4637-a828-f7818cb081ce",
   "metadata": {},
   "outputs": [
    {
     "ename": "TypeError",
     "evalue": "'str' object does not support item assignment",
     "output_type": "error",
     "traceback": [
      "\u001b[0;31m---------------------------------------------------------------------------\u001b[0m",
      "\u001b[0;31mTypeError\u001b[0m                                 Traceback (most recent call last)",
      "Cell \u001b[0;32mIn[24], line 2\u001b[0m\n\u001b[1;32m      1\u001b[0m a \u001b[38;5;241m=\u001b[39m \u001b[38;5;124m\"\u001b[39m\u001b[38;5;124mJohn Jonas\u001b[39m\u001b[38;5;124m\"\u001b[39m \n\u001b[0;32m----> 2\u001b[0m \u001b[43ma\u001b[49m\u001b[43m[\u001b[49m\u001b[38;5;241;43m0\u001b[39;49m\u001b[43m]\u001b[49m \u001b[38;5;241m=\u001b[39m \u001b[38;5;124m\"\u001b[39m\u001b[38;5;124mM\u001b[39m\u001b[38;5;124m\"\u001b[39m \u001b[38;5;66;03m#strings are immutable\u001b[39;00m\n",
      "\u001b[0;31mTypeError\u001b[0m: 'str' object does not support item assignment"
     ]
    }
   ],
   "source": [
    "a = \"John Jonas\" \n",
    "a[0] = \"M\" #strings are immutable"
   ]
  },
  {
   "cell_type": "code",
   "execution_count": 25,
   "id": "217aaabd-3fa1-4ea8-8d2b-4db25dfdce1e",
   "metadata": {},
   "outputs": [
    {
     "data": {
      "text/plain": [
       "'Mohn Jonas'"
      ]
     },
     "execution_count": 25,
     "metadata": {},
     "output_type": "execute_result"
    }
   ],
   "source": [
    "\"M\" + a[1:] #concatenation"
   ]
  },
  {
   "cell_type": "code",
   "execution_count": 26,
   "id": "c1cb6269-ff47-4956-a141-f0dbe5cb7286",
   "metadata": {},
   "outputs": [
    {
     "data": {
      "text/plain": [
       "'HiHiHiHiHi'"
      ]
     },
     "execution_count": 26,
     "metadata": {},
     "output_type": "execute_result"
    }
   ],
   "source": [
    "\"Hi\" * 5 #multiplication"
   ]
  },
  {
   "cell_type": "markdown",
   "id": "f1bc87cc-217f-472a-a2d9-cf36368a279e",
   "metadata": {},
   "source": [
    "### String methods"
   ]
  },
  {
   "cell_type": "code",
   "execution_count": 27,
   "id": "ddb136f4-df7f-4bb4-8863-1c0cc9b663f2",
   "metadata": {},
   "outputs": [
    {
     "data": {
      "text/plain": [
       "'JOHN JONAS'"
      ]
     },
     "execution_count": 27,
     "metadata": {},
     "output_type": "execute_result"
    }
   ],
   "source": [
    "a.upper() #converts a string into upper case"
   ]
  },
  {
   "cell_type": "code",
   "execution_count": 28,
   "id": "e0de7b5d-3695-42ac-9dd6-9deb070e8237",
   "metadata": {},
   "outputs": [
    {
     "data": {
      "text/plain": [
       "['John', 'Jonas']"
      ]
     },
     "execution_count": 28,
     "metadata": {},
     "output_type": "execute_result"
    }
   ],
   "source": [
    "a.split() #splits the string at specified value [default is space]"
   ]
  },
  {
   "cell_type": "markdown",
   "id": "9603dd74-258b-4b9a-9b9a-9962751ae0eb",
   "metadata": {},
   "source": [
    "for more methods https://www.w3schools.com/python/python_ref_string.asp"
   ]
  },
  {
   "cell_type": "markdown",
   "id": "5647174b-298b-48ec-8d03-321e42fecb91",
   "metadata": {},
   "source": [
    "### Print formatting"
   ]
  },
  {
   "cell_type": "code",
   "execution_count": 29,
   "id": "ed98a11a-1b36-4abd-92a4-0bd514ec985a",
   "metadata": {},
   "outputs": [],
   "source": [
    "a = \"lucy\"\n",
    "b = \"joe\""
   ]
  },
  {
   "cell_type": "code",
   "execution_count": 30,
   "id": "5469863a-4270-4f40-962c-9dd7ffe4b203",
   "metadata": {},
   "outputs": [
    {
     "name": "stdout",
     "output_type": "stream",
     "text": [
      "Hello lucy\n"
     ]
    }
   ],
   "source": [
    "print(\"Hello \" + a) #normal method"
   ]
  },
  {
   "cell_type": "code",
   "execution_count": 31,
   "id": "81d964d8-db00-4045-a9ad-fbf07c4de607",
   "metadata": {},
   "outputs": [
    {
     "name": "stdout",
     "output_type": "stream",
     "text": [
      "Hello lucy\n"
     ]
    }
   ],
   "source": [
    "print(\"Hello {}\".format(a)) #.format() method "
   ]
  },
  {
   "cell_type": "code",
   "execution_count": 32,
   "id": "7884d334-20ab-43bc-8dee-9a2976d7bd33",
   "metadata": {},
   "outputs": [
    {
     "name": "stdout",
     "output_type": "stream",
     "text": [
      "Hello joe\n"
     ]
    }
   ],
   "source": [
    "print(\"Hello {1}\".format(a,b)) #use of indexing in .format method"
   ]
  },
  {
   "cell_type": "code",
   "execution_count": 33,
   "id": "333a69f9-34c1-4619-a346-138d1cd993c0",
   "metadata": {},
   "outputs": [
    {
     "name": "stdout",
     "output_type": "stream",
     "text": [
      "Hello lucy Hi joe\n"
     ]
    }
   ],
   "source": [
    "print(\"Hello {a} Hi {b}\".format(a=\"lucy\", b=\"joe\")) #assigning variables inside the format function"
   ]
  },
  {
   "cell_type": "code",
   "execution_count": 34,
   "id": "12aac339-0b83-433b-b107-4aa6ec860e43",
   "metadata": {},
   "outputs": [
    {
     "data": {
      "text/plain": [
       "0.37037037037037035"
      ]
     },
     "execution_count": 34,
     "metadata": {},
     "output_type": "execute_result"
    }
   ],
   "source": [
    "result = 10/27\n",
    "result"
   ]
  },
  {
   "cell_type": "code",
   "execution_count": 35,
   "id": "e61a6f79-2a14-4550-b008-9cb52235355c",
   "metadata": {},
   "outputs": [
    {
     "name": "stdout",
     "output_type": "stream",
     "text": [
      "0.37037037037037035\n"
     ]
    }
   ],
   "source": [
    "print(result)"
   ]
  },
  {
   "cell_type": "code",
   "execution_count": 36,
   "id": "2c5e2a4c-1a1f-4afd-887b-746bb58ea8d9",
   "metadata": {},
   "outputs": [
    {
     "name": "stdout",
     "output_type": "stream",
     "text": [
      "result = 0.370\n"
     ]
    }
   ],
   "source": [
    "print(\"result = {r:1.3f}\".format(r = result)) #using float formatting inside .format method. Syntax \"{value: width: precision}\""
   ]
  },
  {
   "cell_type": "code",
   "execution_count": 37,
   "id": "7fc3c308-dea8-409b-a654-19f38c638fb8",
   "metadata": {},
   "outputs": [
    {
     "name": "stdout",
     "output_type": "stream",
     "text": [
      "result =      0.370\n"
     ]
    }
   ],
   "source": [
    "print(\"result = {r:10.3f}\".format(r = result))"
   ]
  },
  {
   "cell_type": "code",
   "execution_count": 38,
   "id": "c7a9f77f-f567-401f-a4ff-61d7424991f5",
   "metadata": {},
   "outputs": [
    {
     "name": "stdout",
     "output_type": "stream",
     "text": [
      "result = 0.3703704\n"
     ]
    }
   ],
   "source": [
    "print(\"result = {r:1.7f}\".format(r = result))"
   ]
  },
  {
   "cell_type": "code",
   "execution_count": 39,
   "id": "f1c06be2-320d-486f-ab4f-ade37de7889b",
   "metadata": {},
   "outputs": [
    {
     "name": "stdout",
     "output_type": "stream",
     "text": [
      "Hello, his name is lucy\n"
     ]
    }
   ],
   "source": [
    "print(f\"Hello, his name is {a}\") #f string formatting method"
   ]
  },
  {
   "cell_type": "markdown",
   "id": "a9e8fe6f-6d16-4d91-b0c0-03c72faed66e",
   "metadata": {},
   "source": [
    "### List"
   ]
  },
  {
   "cell_type": "code",
   "execution_count": 40,
   "id": "330b63d0-ff5f-4a5b-a853-037e8a2404d4",
   "metadata": {},
   "outputs": [],
   "source": [
    "myList = [100, 23.6, \"John\"] #list can hold any type of data types"
   ]
  },
  {
   "cell_type": "code",
   "execution_count": 41,
   "id": "6f171c31-df12-46bc-b199-1d1c73ad7bc1",
   "metadata": {},
   "outputs": [
    {
     "data": {
      "text/plain": [
       "100"
      ]
     },
     "execution_count": 41,
     "metadata": {},
     "output_type": "execute_result"
    }
   ],
   "source": [
    "myList[0]"
   ]
  },
  {
   "cell_type": "code",
   "execution_count": 42,
   "id": "8ee1de11-0610-4eb8-835d-ad22a9cdd573",
   "metadata": {},
   "outputs": [
    {
     "data": {
      "text/plain": [
       "[23.6, 'John']"
      ]
     },
     "execution_count": 42,
     "metadata": {},
     "output_type": "execute_result"
    }
   ],
   "source": [
    "myList[1:] #can use indexing and slicing as strings"
   ]
  },
  {
   "cell_type": "code",
   "execution_count": 43,
   "id": "ac5cd8b2-ef30-423c-a0b0-2a1fe5ad0337",
   "metadata": {},
   "outputs": [
    {
     "data": {
      "text/plain": [
       "[100, 23.6, 'John', 2, 78.9]"
      ]
     },
     "execution_count": 43,
     "metadata": {},
     "output_type": "execute_result"
    }
   ],
   "source": [
    "anotherList = [2, 78.9] \n",
    "myList + anotherList #can also use concatenation as string"
   ]
  },
  {
   "cell_type": "code",
   "execution_count": 44,
   "id": "917632f6-6a40-4eb3-b571-efdb45ed2c9a",
   "metadata": {},
   "outputs": [
    {
     "data": {
      "text/plain": [
       "[100, 23.6, 'John', 100, 23.6, 'John']"
      ]
     },
     "execution_count": 44,
     "metadata": {},
     "output_type": "execute_result"
    }
   ],
   "source": [
    "myList * 2 #can also be multiplied as strings"
   ]
  },
  {
   "cell_type": "code",
   "execution_count": 45,
   "id": "95d97242-d673-4c05-ac7c-f4fc3277dc72",
   "metadata": {},
   "outputs": [
    {
     "data": {
      "text/plain": [
       "['Hello', 23.6, 'John']"
      ]
     },
     "execution_count": 45,
     "metadata": {},
     "output_type": "execute_result"
    }
   ],
   "source": [
    "myList[0] = \"Hello\" #it is mutable whereas strings are not\n",
    "myList"
   ]
  },
  {
   "cell_type": "markdown",
   "id": "a5b15b4f-b74c-462f-9ec8-5894a3b432d5",
   "metadata": {},
   "source": [
    "All the list methods https://www.w3schools.com/python/python_ref_list.asp Some of them are below."
   ]
  },
  {
   "cell_type": "code",
   "execution_count": 46,
   "id": "cc992460-9b1a-4135-b4cc-25b6af7dfde6",
   "metadata": {},
   "outputs": [
    {
     "data": {
      "text/plain": [
       "['Hello', 23.6, 'John', 44]"
      ]
     },
     "execution_count": 46,
     "metadata": {},
     "output_type": "execute_result"
    }
   ],
   "source": [
    "myList.append(44) #Adds an element at the end of the list\n",
    "myList"
   ]
  },
  {
   "cell_type": "code",
   "execution_count": 47,
   "id": "69f6463d-564f-4815-8165-7beac808d3a3",
   "metadata": {},
   "outputs": [
    {
     "data": {
      "text/plain": [
       "[44, 'John', 23.6, 'Hello']"
      ]
     },
     "execution_count": 47,
     "metadata": {},
     "output_type": "execute_result"
    }
   ],
   "source": [
    "myList.reverse() #Reverses the order of the list\n",
    "myList"
   ]
  },
  {
   "cell_type": "markdown",
   "id": "711dccd1-f524-46b8-8981-58d8dc2b3670",
   "metadata": {},
   "source": [
    "### Dictionaries"
   ]
  },
  {
   "cell_type": "markdown",
   "id": "4e5b59c2-d43b-4c9f-8edf-c9aa5d9946f2",
   "metadata": {},
   "source": [
    "When to choose List and when to choose Dictionaries ?\n",
    "Dictionaries: Objects retrieved by key name. Unordered and cannot be sorted.\n",
    "Lists: Objects retrieved by Indexing. Ordered sequence can be Sorted, Indexed and Sliced"
   ]
  },
  {
   "cell_type": "code",
   "execution_count": 48,
   "id": "f9691cff-d5f1-4af1-9cb9-87087dba0acb",
   "metadata": {},
   "outputs": [
    {
     "data": {
      "text/plain": [
       "{'key1': 'value1', 'key2': 'value2'}"
      ]
     },
     "execution_count": 48,
     "metadata": {},
     "output_type": "execute_result"
    }
   ],
   "source": [
    "myDict = {'key1': 'value1', 'key2': 'value2'}\n",
    "myDict"
   ]
  },
  {
   "cell_type": "code",
   "execution_count": 49,
   "id": "7a500020-1f03-46bd-a654-4388413bb2d8",
   "metadata": {},
   "outputs": [
    {
     "data": {
      "text/plain": [
       "'value1'"
      ]
     },
     "execution_count": 49,
     "metadata": {},
     "output_type": "execute_result"
    }
   ],
   "source": [
    "myDict['key1']"
   ]
  },
  {
   "cell_type": "code",
   "execution_count": 50,
   "id": "62b33541-dc00-4960-8bd6-efa0dfe36948",
   "metadata": {},
   "outputs": [
    {
     "data": {
      "text/plain": [
       "{'k1': 123, 'k2': [0, 1, 2], 'k3': {'k31': 100}}"
      ]
     },
     "execution_count": 50,
     "metadata": {},
     "output_type": "execute_result"
    }
   ],
   "source": [
    "anotherDict = {'k1': 123, 'k2': [0, 1, 2], 'k3': {'k31': 100}}\n",
    "anotherDict"
   ]
  },
  {
   "cell_type": "code",
   "execution_count": 51,
   "id": "4b93285c-46b7-4ad8-9d52-c15810d6608a",
   "metadata": {},
   "outputs": [
    {
     "data": {
      "text/plain": [
       "1"
      ]
     },
     "execution_count": 51,
     "metadata": {},
     "output_type": "execute_result"
    }
   ],
   "source": [
    "anotherDict['k2'][1]"
   ]
  },
  {
   "cell_type": "code",
   "execution_count": 52,
   "id": "10911258-87bc-49a7-8458-f75adad4207f",
   "metadata": {},
   "outputs": [
    {
     "data": {
      "text/plain": [
       "100"
      ]
     },
     "execution_count": 52,
     "metadata": {},
     "output_type": "execute_result"
    }
   ],
   "source": [
    "anotherDict['k3']['k31']"
   ]
  },
  {
   "cell_type": "code",
   "execution_count": 53,
   "id": "f413b291-751d-4862-9b69-8e3c38c95b9b",
   "metadata": {},
   "outputs": [
    {
     "data": {
      "text/plain": [
       "{'k1': 123, 'k2': [0, 1, 2], 'k3': {'k31': 100}, 'k4': 600}"
      ]
     },
     "execution_count": 53,
     "metadata": {},
     "output_type": "execute_result"
    }
   ],
   "source": [
    "anotherDict['k4'] = 600\n",
    "anotherDict #this is how we can add elements to Dictionaries"
   ]
  },
  {
   "cell_type": "code",
   "execution_count": 54,
   "id": "ec25878d-282f-41f4-ae31-71a606cff3c2",
   "metadata": {},
   "outputs": [
    {
     "data": {
      "text/plain": [
       "dict_keys(['k1', 'k2', 'k3', 'k4'])"
      ]
     },
     "execution_count": 54,
     "metadata": {},
     "output_type": "execute_result"
    }
   ],
   "source": [
    "anotherDict.keys() #prints all the keys"
   ]
  },
  {
   "cell_type": "code",
   "execution_count": 55,
   "id": "6d5e8d47-cf26-4530-9303-40a6a3788921",
   "metadata": {},
   "outputs": [
    {
     "data": {
      "text/plain": [
       "dict_values([123, [0, 1, 2], {'k31': 100}, 600])"
      ]
     },
     "execution_count": 55,
     "metadata": {},
     "output_type": "execute_result"
    }
   ],
   "source": [
    "anotherDict.values() #prints all the values"
   ]
  },
  {
   "cell_type": "code",
   "execution_count": 56,
   "id": "a89bed76-31d2-4167-873c-892f84ded276",
   "metadata": {},
   "outputs": [
    {
     "data": {
      "text/plain": [
       "dict_items([('k1', 123), ('k2', [0, 1, 2]), ('k3', {'k31': 100}), ('k4', 600)])"
      ]
     },
     "execution_count": 56,
     "metadata": {},
     "output_type": "execute_result"
    }
   ],
   "source": [
    "anotherDict.items() #prints all the pairs"
   ]
  },
  {
   "cell_type": "markdown",
   "id": "35ca8fc5-7db4-4ef5-a3c8-2287bd87ffa3",
   "metadata": {},
   "source": [
    "### Tuples"
   ]
  },
  {
   "cell_type": "markdown",
   "id": "537abeed-f92d-4b5a-af1f-209c7c8bca47",
   "metadata": {},
   "source": [
    "Tuples are very similar to lists. However they have one key difference that is immutability. Once an element is inside a tuple, it can not be reassigned. Tuple uses parenthesis: (1,2,3)"
   ]
  },
  {
   "cell_type": "code",
   "execution_count": 62,
   "id": "07a69d96-87b2-4c5a-994a-21d59de57ca2",
   "metadata": {},
   "outputs": [
    {
     "data": {
      "text/plain": [
       "(1, 'one', 78.6)"
      ]
     },
     "execution_count": 62,
     "metadata": {},
     "output_type": "execute_result"
    }
   ],
   "source": [
    "mytuple = (1, 'one', 78.6) #it can take all type of data types as list\n",
    "mytuple"
   ]
  },
  {
   "cell_type": "code",
   "execution_count": 63,
   "id": "721dd158-3788-41aa-a6fd-f1488bcae017",
   "metadata": {},
   "outputs": [
    {
     "data": {
      "text/plain": [
       "1"
      ]
     },
     "execution_count": 63,
     "metadata": {},
     "output_type": "execute_result"
    }
   ],
   "source": [
    "mytuple[0]"
   ]
  },
  {
   "cell_type": "code",
   "execution_count": 65,
   "id": "aeee89d7-d667-4ddd-9258-b7d091d80a03",
   "metadata": {},
   "outputs": [
    {
     "data": {
      "text/plain": [
       "('one', 78.6)"
      ]
     },
     "execution_count": 65,
     "metadata": {},
     "output_type": "execute_result"
    }
   ],
   "source": [
    "mytuple[1:] #indexing and slicing works same as list"
   ]
  },
  {
   "cell_type": "code",
   "execution_count": 69,
   "id": "be3b65bb-91e9-4cda-ae3e-4a1790bd27d8",
   "metadata": {},
   "outputs": [
    {
     "data": {
      "text/plain": [
       "(1, 'one', 78.6, 1, 'one', 78.6)"
      ]
     },
     "execution_count": 69,
     "metadata": {},
     "output_type": "execute_result"
    }
   ],
   "source": [
    "mytuple + mytuple #concatenation"
   ]
  },
  {
   "cell_type": "code",
   "execution_count": 70,
   "id": "315cd7a2-1685-499e-9a26-547abbcd386b",
   "metadata": {},
   "outputs": [
    {
     "data": {
      "text/plain": [
       "(1, 'one', 78.6, 1, 'one', 78.6, 1, 'one', 78.6, 1, 'one', 78.6)"
      ]
     },
     "execution_count": 70,
     "metadata": {},
     "output_type": "execute_result"
    }
   ],
   "source": [
    "mytuple * 4 #multiplication"
   ]
  },
  {
   "cell_type": "code",
   "execution_count": 74,
   "id": "b1f9e0c0-7dd3-432f-8504-93aba31f17ff",
   "metadata": {},
   "outputs": [
    {
     "ename": "TypeError",
     "evalue": "'tuple' object does not support item assignment",
     "output_type": "error",
     "traceback": [
      "\u001b[0;31m---------------------------------------------------------------------------\u001b[0m",
      "\u001b[0;31mTypeError\u001b[0m                                 Traceback (most recent call last)",
      "Cell \u001b[0;32mIn[74], line 1\u001b[0m\n\u001b[0;32m----> 1\u001b[0m \u001b[43mmytuple\u001b[49m\u001b[43m[\u001b[49m\u001b[38;5;241;43m0\u001b[39;49m\u001b[43m]\u001b[49m \u001b[38;5;241m=\u001b[39m \u001b[38;5;241m4\u001b[39m \u001b[38;5;66;03m#only difference is it can be reassigned\u001b[39;00m\n",
      "\u001b[0;31mTypeError\u001b[0m: 'tuple' object does not support item assignment"
     ]
    }
   ],
   "source": [
    "mytuple[0] = 4 #only difference is it can be reassigned"
   ]
  },
  {
   "cell_type": "code",
   "execution_count": 75,
   "id": "512e2aa8-e4c0-49be-b241-eef02646a779",
   "metadata": {},
   "outputs": [
    {
     "data": {
      "text/plain": [
       "1"
      ]
     },
     "execution_count": 75,
     "metadata": {},
     "output_type": "execute_result"
    }
   ],
   "source": [
    "mytuple.count(1) #Returns the number of times a specified value occurs in a tuple"
   ]
  },
  {
   "cell_type": "code",
   "execution_count": 76,
   "id": "41f2f819-c007-4dfd-ae58-d8d81f1070e9",
   "metadata": {},
   "outputs": [
    {
     "data": {
      "text/plain": [
       "0"
      ]
     },
     "execution_count": 76,
     "metadata": {},
     "output_type": "execute_result"
    }
   ],
   "source": [
    "mytuple.index(1) #\tSearches the tuple for a specified value and returns the position of where it was found"
   ]
  },
  {
   "cell_type": "markdown",
   "id": "8a560a6d-0c7d-4810-94a3-6de5b3598201",
   "metadata": {},
   "source": [
    "### Sets"
   ]
  },
  {
   "cell_type": "markdown",
   "id": "d45da9ec-325d-4f4e-8908-5f38860d7532",
   "metadata": {},
   "source": [
    "Sets are unordered collection of unique elements. Meaning there can only be one representative of same object."
   ]
  },
  {
   "cell_type": "code",
   "execution_count": 92,
   "id": "0fc884a1-be59-4418-a690-002a8807d1cc",
   "metadata": {},
   "outputs": [
    {
     "data": {
      "text/plain": [
       "{1, 2, 3}"
      ]
     },
     "execution_count": 92,
     "metadata": {},
     "output_type": "execute_result"
    }
   ],
   "source": [
    "myset = {1,2,2,2,3,3,3}\n",
    "myset #it takes only unique values"
   ]
  },
  {
   "cell_type": "code",
   "execution_count": 93,
   "id": "946cf936-1c84-420e-8523-b25e6b8aab08",
   "metadata": {},
   "outputs": [
    {
     "ename": "TypeError",
     "evalue": "'set' object is not subscriptable",
     "output_type": "error",
     "traceback": [
      "\u001b[0;31m---------------------------------------------------------------------------\u001b[0m",
      "\u001b[0;31mTypeError\u001b[0m                                 Traceback (most recent call last)",
      "Cell \u001b[0;32mIn[93], line 1\u001b[0m\n\u001b[0;32m----> 1\u001b[0m \u001b[43mmyset\u001b[49m\u001b[43m[\u001b[49m\u001b[38;5;241;43m0\u001b[39;49m\u001b[43m]\u001b[49m \u001b[38;5;66;03m#indexing doesnot work because it is unordered\u001b[39;00m\n",
      "\u001b[0;31mTypeError\u001b[0m: 'set' object is not subscriptable"
     ]
    }
   ],
   "source": [
    "myset[0] #indexing doesnot work because it is unordered"
   ]
  },
  {
   "cell_type": "markdown",
   "id": "9ed1476d-0347-4cba-8ade-dac415ecc455",
   "metadata": {},
   "source": [
    "For set methods https://www.w3schools.com/python/python_ref_set.asp "
   ]
  },
  {
   "cell_type": "code",
   "execution_count": 94,
   "id": "c0bde252-c539-4917-96c4-f9808c9ecd9e",
   "metadata": {},
   "outputs": [
    {
     "data": {
      "text/plain": [
       "{1, 2, 3, 4}"
      ]
     },
     "execution_count": 94,
     "metadata": {},
     "output_type": "execute_result"
    }
   ],
   "source": [
    "myset.add(4) #Adds an element to the set\n",
    "myset"
   ]
  },
  {
   "cell_type": "code",
   "execution_count": 95,
   "id": "ec8c884c-deb6-4f3a-92d0-c946ff020c95",
   "metadata": {},
   "outputs": [
    {
     "data": {
      "text/plain": [
       "{2, 3, 4}"
      ]
     },
     "execution_count": 95,
     "metadata": {},
     "output_type": "execute_result"
    }
   ],
   "source": [
    "myset.pop() #Removes an element from the set\n",
    "myset"
   ]
  },
  {
   "cell_type": "markdown",
   "id": "472000a5-bbc4-4f31-acee-6192bf30e5da",
   "metadata": {},
   "source": [
    "### I/O with files"
   ]
  },
  {
   "cell_type": "code",
   "execution_count": 105,
   "id": "34a12efd-8227-4623-b8f9-51f1a3f5468f",
   "metadata": {},
   "outputs": [
    {
     "name": "stdout",
     "output_type": "stream",
     "text": [
      "Overwriting myfile.txt\n"
     ]
    }
   ],
   "source": [
    "%%writefile myfile.txt \n",
    "Hello this is a text file\n",
    "this is the second line\n",
    "this is the third line #used to write new file and also works only in jupyter notebook"
   ]
  },
  {
   "cell_type": "code",
   "execution_count": 106,
   "id": "7ab28888-4283-49f5-b5e5-1260a69fcbaa",
   "metadata": {},
   "outputs": [
    {
     "data": {
      "text/plain": [
       "'/Users/ankushpgowda/Desktop/Data Science Bootcamp'"
      ]
     },
     "execution_count": 106,
     "metadata": {},
     "output_type": "execute_result"
    }
   ],
   "source": [
    "pwd #shows the current working directory"
   ]
  },
  {
   "cell_type": "code",
   "execution_count": 107,
   "id": "1f57c853-8cbb-4660-a58c-595b7ca7e61e",
   "metadata": {},
   "outputs": [],
   "source": [
    "myfile = open('myfile.txt') #opens the assigned file and load the data to a variable"
   ]
  },
  {
   "cell_type": "code",
   "execution_count": 108,
   "id": "f5cac329-0245-4b09-9aa0-5ed1153a3839",
   "metadata": {},
   "outputs": [
    {
     "data": {
      "text/plain": [
       "'Hello this is a text file\\nthis is the second line\\nthis is the third line #used to write new file and also works only in jupyter notebook\\n'"
      ]
     },
     "execution_count": 108,
     "metadata": {},
     "output_type": "execute_result"
    }
   ],
   "source": [
    "myfile.read() #prints the data inside the file variable"
   ]
  },
  {
   "cell_type": "code",
   "execution_count": 109,
   "id": "bbf96ecd-bb01-4504-ba21-8e3f6eb5e87d",
   "metadata": {},
   "outputs": [
    {
     "data": {
      "text/plain": [
       "''"
      ]
     },
     "execution_count": 109,
     "metadata": {},
     "output_type": "execute_result"
    }
   ],
   "source": [
    "myfile.read() #because cursor is at the end of the file it gives nothing"
   ]
  },
  {
   "cell_type": "code",
   "execution_count": 110,
   "id": "e630ed71-84f2-4615-82b9-7e97e9c2c8de",
   "metadata": {},
   "outputs": [
    {
     "data": {
      "text/plain": [
       "'Hello this is a text file\\nthis is the second line\\nthis is the third line #used to write new file and also works only in jupyter notebook\\n'"
      ]
     },
     "execution_count": 110,
     "metadata": {},
     "output_type": "execute_result"
    }
   ],
   "source": [
    "myfile.seek(0) #reset the cursor to start\n",
    "myfile.read()"
   ]
  },
  {
   "cell_type": "code",
   "execution_count": 111,
   "id": "e45ee5b2-9624-4589-b782-44394b77ef22",
   "metadata": {},
   "outputs": [
    {
     "data": {
      "text/plain": [
       "['Hello this is a text file\\n',\n",
       " 'this is the second line\\n',\n",
       " 'this is the third line #used to write new file and also works only in jupyter notebook\\n']"
      ]
     },
     "execution_count": 111,
     "metadata": {},
     "output_type": "execute_result"
    }
   ],
   "source": [
    "myfile.seek(0) \n",
    "myfile.readlines() #reads each lines as the single elements in the list"
   ]
  },
  {
   "cell_type": "code",
   "execution_count": null,
   "id": "0e4d977d-ec95-4d68-ab9e-79bb66b0378b",
   "metadata": {},
   "outputs": [],
   "source": [
    "myfile.close() #closes the file after it is opened"
   ]
  },
  {
   "cell_type": "code",
   "execution_count": 112,
   "id": "8f755ea5-5997-4a09-b522-77ca20930bc9",
   "metadata": {},
   "outputs": [
    {
     "data": {
      "text/plain": [
       "['Hello this is a text file\\n',\n",
       " 'this is the second line\\n',\n",
       " 'this is the third line #used to write new file and also works only in jupyter notebook\\n']"
      ]
     },
     "execution_count": 112,
     "metadata": {},
     "output_type": "execute_result"
    }
   ],
   "source": [
    "with open('myfile.txt') as mynewfile: #another type of opening a file which doesnot need closing syntax\n",
    "    contents = mynewfile.readlines()\n",
    "\n",
    "contents"
   ]
  },
  {
   "cell_type": "markdown",
   "id": "aac91796-1edb-46c6-be64-9f8604c6015b",
   "metadata": {},
   "source": [
    "READING, WRITING,APPENDING MODES\n",
    "mode = 'r' is read only\n",
    "mode = 'w' is write only (will overwrites files or create new!)\n",
    "mode = 'a' is append only (will add on to files)\n",
    "mode = 'r+' is reading and writing \n",
    "mode = 'w+' is writing and reading (overwrites existing files or creates a new file)\n",
    "\n",
    "default is mode = 'r'"
   ]
  },
  {
   "cell_type": "code",
   "execution_count": 114,
   "id": "4ad921ed-da9d-48f9-9bf1-c736889098e2",
   "metadata": {},
   "outputs": [
    {
     "name": "stdout",
     "output_type": "stream",
     "text": [
      "Hello this is a text file\n",
      "this is the second line\n",
      "this is the third line #used to write new file and also works only in jupyter notebook\n",
      "\n",
      "this is fourth line\n",
      "this is fourth line\n"
     ]
    }
   ],
   "source": [
    "with open('myfile.txt', mode = 'a') as f: \n",
    "    f.write('\\nthis is fourth line')\n",
    "\n",
    "with open('myfile.txt', mode = 'r') as f:\n",
    "    print(f.read())"
   ]
  },
  {
   "cell_type": "code",
   "execution_count": 115,
   "id": "d04485e5-6469-4d16-bf5b-a3bbbedc710d",
   "metadata": {},
   "outputs": [
    {
     "name": "stdout",
     "output_type": "stream",
     "text": [
      "\n",
      "this is fourth line\n"
     ]
    }
   ],
   "source": [
    "with open('myfile.txt', mode = 'w') as f: \n",
    "    f.write('\\nthis is fourth line')\n",
    "\n",
    "with open('myfile.txt', mode = 'r') as f:\n",
    "    print(f.read())"
   ]
  },
  {
   "cell_type": "markdown",
   "id": "f8a258b5-aaad-45e9-9bcd-ab0519c8103d",
   "metadata": {},
   "source": [
    "### if, elif, else statements"
   ]
  },
  {
   "cell_type": "code",
   "execution_count": 116,
   "id": "859bac09-42df-4741-8ee4-366556292646",
   "metadata": {},
   "outputs": [
    {
     "name": "stdout",
     "output_type": "stream",
     "text": [
      "Hello Sammy!\n"
     ]
    }
   ],
   "source": [
    "name = \"Sammy\"\n",
    "\n",
    "if name == \"Frankie\":\n",
    "    print(\"Hello Frankie!\")\n",
    "elif name == \"Sammy\":\n",
    "    print(\"Hello Sammy!\")\n",
    "else:\n",
    "    print(\"Who are you?\")"
   ]
  },
  {
   "cell_type": "markdown",
   "id": "d3ce16cf-64db-4221-838e-cfe8b0852e79",
   "metadata": {},
   "source": [
    "### for loops and while loops"
   ]
  },
  {
   "cell_type": "code",
   "execution_count": 1,
   "id": "c8a95e56-fbe2-47d9-8774-e72537cf9d73",
   "metadata": {},
   "outputs": [
    {
     "name": "stdout",
     "output_type": "stream",
     "text": [
      "1\n",
      "2\n",
      "3\n",
      "4\n",
      "5\n"
     ]
    }
   ],
   "source": [
    "mylist = [1, 2, 3 ,4 , 5]\n",
    "for num in mylist:\n",
    "    print(num)"
   ]
  },
  {
   "cell_type": "code",
   "execution_count": 2,
   "id": "5bbb5e4e-9031-447d-8523-69fa677df032",
   "metadata": {},
   "outputs": [
    {
     "name": "stdout",
     "output_type": "stream",
     "text": [
      "1\n",
      "2\n",
      "3\n",
      "4\n",
      "5\n",
      "6\n"
     ]
    }
   ],
   "source": [
    "mytuple = [(1,2), (3,4), (5,6)]  #tuple unpacking method\n",
    "for (a,b) in mytuple:\n",
    "    print(a)\n",
    "    print(b)"
   ]
  },
  {
   "cell_type": "code",
   "execution_count": 3,
   "id": "9b9158f6-1e56-4dc4-a04d-1e34216b1d0d",
   "metadata": {},
   "outputs": [
    {
     "name": "stdout",
     "output_type": "stream",
     "text": [
      "1\n",
      "2\n",
      "3\n"
     ]
    }
   ],
   "source": [
    "mydict = {'k1':1, 'k2':2, 'k3':3}  #same tuple unpacking method for dictionaries\n",
    "for key, values in mydict.items():\n",
    "    print(values)"
   ]
  },
  {
   "cell_type": "code",
   "execution_count": 8,
   "id": "8dbae5c0-d9fa-48e0-81e1-88d2b7ef44ac",
   "metadata": {},
   "outputs": [
    {
     "name": "stdout",
     "output_type": "stream",
     "text": [
      "1\n",
      "2\n",
      "3\n",
      "4\n"
     ]
    }
   ],
   "source": [
    "x = 1         #we can also use else in while loop\n",
    "while x < 5:\n",
    "    print(x)\n",
    "    x = x + 1 #x += 1"
   ]
  },
  {
   "cell_type": "markdown",
   "id": "4e7ca971-7a48-45ac-9242-4a0ce641bbfd",
   "metadata": {},
   "source": [
    "break: Breaks out of the current closest enclosing loop\n",
    "continue: Goes to the top of the closest enclosing loop\n",
    "pass: Does nothing at all"
   ]
  },
  {
   "cell_type": "code",
   "execution_count": 9,
   "id": "16cb3fc2-af5d-4cdb-b897-4299e897c3a5",
   "metadata": {},
   "outputs": [],
   "source": [
    "x = [1,2,3] #without pass it gives error so use pass to do nothing\n",
    "for item in x:\n",
    "    pass"
   ]
  },
  {
   "cell_type": "code",
   "execution_count": 12,
   "id": "42e06c51-b5e9-47e2-b53b-a5b80284491e",
   "metadata": {},
   "outputs": [
    {
     "name": "stdout",
     "output_type": "stream",
     "text": [
      "H\n",
      "l\n",
      "l\n",
      "o\n"
     ]
    }
   ],
   "source": [
    "x = 'Hello'\n",
    "for letter in x:\n",
    "    if letter == 'e':\n",
    "        continue\n",
    "    print(letter)  #used continue to go back to the nearest loop in this case it is for loop"
   ]
  },
  {
   "cell_type": "code",
   "execution_count": 13,
   "id": "85accdfe-0f80-4090-ad7f-6687a55cf18e",
   "metadata": {},
   "outputs": [
    {
     "name": "stdout",
     "output_type": "stream",
     "text": [
      "H\n"
     ]
    }
   ],
   "source": [
    "x = 'Hello'\n",
    "for letter in x:\n",
    "    if letter == 'e':\n",
    "        break\n",
    "    print(letter) #used break to break the nearest loop in this case it is for loop"
   ]
  },
  {
   "cell_type": "code",
   "execution_count": 15,
   "id": "73328036-877d-4ade-a55c-720d87be0bd1",
   "metadata": {},
   "outputs": [
    {
     "name": "stdout",
     "output_type": "stream",
     "text": [
      "H\n",
      "e\n",
      "l\n",
      "l\n",
      "o\n"
     ]
    }
   ],
   "source": [
    "for i in range(len(x)):\n",
    "    print(x[i])"
   ]
  },
  {
   "cell_type": "code",
   "execution_count": null,
   "id": "1074793c-9a96-4587-8220-12b86a99dbdc",
   "metadata": {},
   "outputs": [],
   "source": []
  },
  {
   "cell_type": "code",
   "execution_count": null,
   "id": "a52846cb-ceec-45f8-aab4-11dd6b23f68a",
   "metadata": {},
   "outputs": [],
   "source": []
  },
  {
   "cell_type": "code",
   "execution_count": null,
   "id": "bc679b24-2353-4749-bc50-1f878af775f0",
   "metadata": {},
   "outputs": [],
   "source": []
  },
  {
   "cell_type": "code",
   "execution_count": null,
   "id": "4e87b4f3-726a-48a1-a762-a0d8c63c3796",
   "metadata": {},
   "outputs": [],
   "source": []
  },
  {
   "cell_type": "code",
   "execution_count": null,
   "id": "ec198a25-882a-4d34-96e6-dfaf9f963d78",
   "metadata": {},
   "outputs": [],
   "source": []
  },
  {
   "cell_type": "code",
   "execution_count": null,
   "id": "cdf6ac0a-e6a7-4f1f-934f-a199d57554e8",
   "metadata": {},
   "outputs": [],
   "source": []
  },
  {
   "cell_type": "code",
   "execution_count": null,
   "id": "ffc4533a-9d5a-43d3-9602-6ecbcaf7fd39",
   "metadata": {},
   "outputs": [],
   "source": []
  },
  {
   "cell_type": "code",
   "execution_count": null,
   "id": "8b4ff19a-cbf9-4d3c-a590-5d61bbb5c270",
   "metadata": {},
   "outputs": [],
   "source": []
  },
  {
   "cell_type": "code",
   "execution_count": null,
   "id": "dc29b302-9b10-486e-a9bd-daf7ac30c30d",
   "metadata": {},
   "outputs": [],
   "source": []
  },
  {
   "cell_type": "code",
   "execution_count": null,
   "id": "00a8995a-2a2b-4a17-ad8e-177e0fc3355b",
   "metadata": {},
   "outputs": [],
   "source": []
  },
  {
   "cell_type": "code",
   "execution_count": null,
   "id": "f488b9be-15e6-4dfa-af44-cc25a889f367",
   "metadata": {},
   "outputs": [],
   "source": []
  },
  {
   "cell_type": "code",
   "execution_count": null,
   "id": "6056c5a6-3a60-434a-a1a7-4fe4bbae7603",
   "metadata": {},
   "outputs": [],
   "source": []
  },
  {
   "cell_type": "code",
   "execution_count": null,
   "id": "d080283f-9167-4013-9671-500bd71661b3",
   "metadata": {},
   "outputs": [],
   "source": []
  },
  {
   "cell_type": "code",
   "execution_count": null,
   "id": "3bd0338f-004e-4c0a-83ec-c5741d59c15e",
   "metadata": {},
   "outputs": [],
   "source": []
  },
  {
   "cell_type": "code",
   "execution_count": null,
   "id": "3a0d878a-fff6-4445-a3e8-4ba8b26658b4",
   "metadata": {},
   "outputs": [],
   "source": []
  },
  {
   "cell_type": "code",
   "execution_count": null,
   "id": "1b47a790-ca29-42bd-8299-5e45b4ef1e1d",
   "metadata": {},
   "outputs": [],
   "source": []
  },
  {
   "cell_type": "code",
   "execution_count": null,
   "id": "3407d70e-8392-41de-9410-f9239cda3661",
   "metadata": {},
   "outputs": [],
   "source": []
  },
  {
   "cell_type": "code",
   "execution_count": null,
   "id": "aabff987-9417-4507-a4f2-b39f06d6c9d3",
   "metadata": {},
   "outputs": [],
   "source": []
  }
 ],
 "metadata": {
  "kernelspec": {
   "display_name": "Python 3 (ipykernel)",
   "language": "python",
   "name": "python3"
  },
  "language_info": {
   "codemirror_mode": {
    "name": "ipython",
    "version": 3
   },
   "file_extension": ".py",
   "mimetype": "text/x-python",
   "name": "python",
   "nbconvert_exporter": "python",
   "pygments_lexer": "ipython3",
   "version": "3.12.1"
  }
 },
 "nbformat": 4,
 "nbformat_minor": 5
}
